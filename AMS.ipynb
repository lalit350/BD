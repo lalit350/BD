{
 "cells": [
  {
   "cell_type": "code",
   "execution_count": 7,
   "id": "6c3d37c0",
   "metadata": {},
   "outputs": [
    {
     "name": "stdout",
     "output_type": "stream",
     "text": [
      "x=1: Element=2, Frequency=3, Estimate=115\n",
      "x=4: Element=4, Frequency=6, Estimate=253\n",
      "x=7: Element=6, Frequency=2, Estimate=69\n",
      "\n",
      "Estimated Surprise Number: 145.66666666666666\n"
     ]
    }
   ],
   "source": [
    "from collections import defaultdict\n",
    "\n",
    "def ams_algorithm(stream, x_values):\n",
    "    # Initialize counters for the frequency of each element in the stream\n",
    "    frequency = defaultdict(int)\n",
    "\n",
    "    # Process the stream to count frequencies\n",
    "    for num in stream:\n",
    "        frequency[num] += 1\n",
    "\n",
    "    # Initialize AMS estimates for each x value\n",
    "    estimates = []\n",
    "\n",
    "    for x in x_values:\n",
    "        # Get the element at index x\n",
    "        element = stream[x]\n",
    "\n",
    "        # Count occurrences of the element from index x to the end of the stream\n",
    "        f_i = sum(1 for i in range(x, len(stream)) if stream[i] == element)\n",
    "\n",
    "        # Calculate the AMS estimate for this x value\n",
    "        estimate = len(stream) * (2 * f_i - 1)\n",
    "        estimates.append(estimate)\n",
    "\n",
    "        # Print the frequency and estimate value\n",
    "        print(f\"x={x}: Element={element}, Frequency={f_i}, Estimate={estimate}\")\n",
    "\n",
    "    # Calculate the average of the AMS estimates to get the surprise number\n",
    "    surprise_number = sum(estimates) / len(estimates)\n",
    "    return surprise_number\n",
    "\n",
    "# Given stream and x values\n",
    "stream = [1, 2, 7, 1, 4, 9, 4, 6, 1, 6, 4, 4, 5, 5, 5, 9, 8, 7, 2, 2, 4, 4, 1]\n",
    "x_values = [1, 4, 7]  # Indices of the stream\n",
    "\n",
    "# Compute the surprise number using the AMS algorithm\n",
    "surprise_number = ams_algorithm(stream, x_values)\n",
    "print(f\"\\nEstimated Surprise Number: {surprise_number}\")\n"
   ]
  }
 ],
 "metadata": {
  "kernelspec": {
   "display_name": "Python 3 (ipykernel)",
   "language": "python",
   "name": "python3"
  },
  "language_info": {
   "codemirror_mode": {
    "name": "ipython",
    "version": 3
   },
   "file_extension": ".py",
   "mimetype": "text/x-python",
   "name": "python",
   "nbconvert_exporter": "python",
   "pygments_lexer": "ipython3",
   "version": "3.11.5"
  }
 },
 "nbformat": 4,
 "nbformat_minor": 5
}

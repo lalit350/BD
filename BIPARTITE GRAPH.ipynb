{
 "cells": [
  {
   "cell_type": "code",
   "execution_count": null,
   "id": "2e973482",
   "metadata": {},
   "outputs": [],
   "source": [
    "BIPARTITE GRAPHS "
   ]
  },
  {
   "cell_type": "code",
   "execution_count": 7,
   "id": "1b919781",
   "metadata": {},
   "outputs": [
    {
     "name": "stdout",
     "output_type": "stream",
     "text": [
      "Requirement already satisfied: matplotlib in c:\\users\\lalit\\anaconda3\\lib\\site-packages (3.7.2)\n",
      "Requirement already satisfied: networkx in c:\\users\\lalit\\anaconda3\\lib\\site-packages (3.1)\n",
      "Requirement already satisfied: contourpy>=1.0.1 in c:\\users\\lalit\\anaconda3\\lib\\site-packages (from matplotlib) (1.0.5)\n",
      "Requirement already satisfied: cycler>=0.10 in c:\\users\\lalit\\anaconda3\\lib\\site-packages (from matplotlib) (0.11.0)\n",
      "Requirement already satisfied: fonttools>=4.22.0 in c:\\users\\lalit\\anaconda3\\lib\\site-packages (from matplotlib) (4.25.0)\n",
      "Requirement already satisfied: kiwisolver>=1.0.1 in c:\\users\\lalit\\anaconda3\\lib\\site-packages (from matplotlib) (1.4.4)\n",
      "Requirement already satisfied: numpy>=1.20 in c:\\users\\lalit\\anaconda3\\lib\\site-packages (from matplotlib) (1.24.3)\n",
      "Requirement already satisfied: packaging>=20.0 in c:\\users\\lalit\\anaconda3\\lib\\site-packages (from matplotlib) (23.1)\n",
      "Requirement already satisfied: pillow>=6.2.0 in c:\\users\\lalit\\anaconda3\\lib\\site-packages (from matplotlib) (9.4.0)\n",
      "Requirement already satisfied: pyparsing<3.1,>=2.3.1 in c:\\users\\lalit\\anaconda3\\lib\\site-packages (from matplotlib) (3.0.9)\n",
      "Requirement already satisfied: python-dateutil>=2.7 in c:\\users\\lalit\\anaconda3\\lib\\site-packages (from matplotlib) (2.8.2)\n",
      "Requirement already satisfied: six>=1.5 in c:\\users\\lalit\\anaconda3\\lib\\site-packages (from python-dateutil>=2.7->matplotlib) (1.16.0)\n",
      "Bipartite Graph Connections:\n",
      "Node 0: [4, 5]\n",
      "Node 1: [5, 4]\n",
      "Node 2: [4, 6]\n",
      "Node 3: [6, 4]\n",
      "Node 4: [0, 1, 2, 3]\n",
      "Node 5: [0, 1]\n",
      "Node 6: [2, 3]\n"
     ]
    },
    {
     "data": {
      "image/png": "[encoded data removed]",
      "text/plain": [
       "<Figure size 640x480 with 1 Axes>"
      ]
     },
     "metadata": {},
     "output_type": "display_data"
    }
   ],
   "source": [
    "!pip install matplotlib networkx\n",
    "\n",
    "\n",
    "import matplotlib.pyplot as plt\n",
    "import networkx as nx\n",
    "import random\n",
    "\n",
    "def greedy_bipartite_graph(community_A, community_B, connections_per_node):\n",
    "    graph = {node: [] for node in community_A + community_B}  # Initialize the graph\n",
    "\n",
    "    for node in community_A:\n",
    "        # Randomly select connections for the node from community_B\n",
    "        available_nodes = list(community_B)  # All nodes in community B\n",
    "        random.shuffle(available_nodes)  # Shuffle to ensure randomness\n",
    "        \n",
    "        # Connect to the first `connections_per_node` available nodes in community B\n",
    "        for i in range(min(connections_per_node, len(available_nodes))):\n",
    "            graph[node].append(available_nodes[i])\n",
    "            graph[available_nodes[i]].append(node)  # Ensure the connection is bidirectional\n",
    "\n",
    "    return graph\n",
    "\n",
    "def draw_graph(graph):\n",
    "    G = nx.Graph()\n",
    "    \n",
    "    # Add edges to the graph\n",
    "    for node, neighbors in graph.items():\n",
    "        for neighbor in neighbors:\n",
    "            G.add_edge(node, neighbor)\n",
    "\n",
    "    # Create a color map for visualization\n",
    "    color_map = ['red' if node in community_A else 'blue' for node in G.nodes()]\n",
    "\n",
    "    # Manually position nodes: left for community A, right for community B\n",
    "    pos = {}\n",
    "    for i, node in enumerate(community_A):\n",
    "        pos[node] = (-1, i)  # Community A positions (left)\n",
    "    \n",
    "    for i, node in enumerate(community_B):\n",
    "        pos[node] = (1, i)  # Community B positions (right)\n",
    "\n",
    "    # Draw the graph\n",
    "    nx.draw(G, pos, node_color=color_map, with_labels=True, node_size=500, font_size=16)\n",
    "    plt.title(\"Greedy Bipartite Graph\")\n",
    "    plt.show()\n",
    "\n",
    "# Example usage\n",
    "if __name__ == \"__main__\":\n",
    "    # Define two separate communities with flexible sizes\n",
    "    community_A = [0, 1, 2, 3]  # First community \n",
    "    community_B = [4, 5, 6]      # Second community\n",
    "    \n",
    "    connections_per_node = 2  # Define how many connections each node in community A can have\n",
    "    \n",
    "    # Create the bipartite graph using a greedy algorithm\n",
    "    graph = greedy_bipartite_graph(community_A, community_B, connections_per_node)\n",
    "    \n",
    "    print(\"Bipartite Graph Connections:\")\n",
    "    for node, neighbors in graph.items():\n",
    "        print(f\"Node {node}: {neighbors}\")\n",
    "\n",
    "    draw_graph(graph)\n"
   ]
  },
  {
   "cell_type": "code",
   "execution_count": null,
   "id": "42962a52",
   "metadata": {},
   "outputs": [],
   "source": []
  }
 ],
 "metadata": {
  "kernelspec": {
   "display_name": "Python 3 (ipykernel)",
   "language": "python",
   "name": "python3"
  },
  "language_info": {
   "codemirror_mode": {
    "name": "ipython",
    "version": 3
   },
   "file_extension": ".py",
   "mimetype": "text/x-python",
   "name": "python",
   "nbconvert_exporter": "python",
   "pygments_lexer": "ipython3",
   "version": "3.11.5"
  }
 },
 "nbformat": 4,
 "nbformat_minor": 5
}

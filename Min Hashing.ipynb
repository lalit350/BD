{
 "cells": [
  {
   "cell_type": "code",
   "execution_count": 3,
   "id": "907cbd78",
   "metadata": {},
   "outputs": [
    {
     "name": "stdout",
     "output_type": "stream",
     "text": [
      "MinHash Signature Matrix:\n",
      "[[1. 3. 0. 1.]\n",
      " [0. 2. 0. 0.]\n",
      " [1. 4. 0. 1.]]\n"
     ]
    }
   ],
   "source": [
    "import numpy as np\n",
    "\n",
    "# Define the input matrix\n",
    "matrix = np.array([\n",
    "    (1, 0, 0, 1, 0),  # Set 1\n",
    "    (0, 0, 1, 0, 0),  # Set 2\n",
    "    (0, 1, 0, 1, 1),  # Set 3\n",
    "    (1, 0, 1, 1, 0)   # Set 4\n",
    "])\n",
    "\n",
    "# Define the hash functions\n",
    "def h1(x):\n",
    "    return (x + 1) % 5\n",
    "\n",
    "def h2(x):\n",
    "    return (3 * x + 1) % 5\n",
    "\n",
    "def h3(x):\n",
    "    return (4 * x + 1) % 5\n",
    "\n",
    "# List of hash functions\n",
    "hash_functions = [h1, h2, h3]\n",
    "\n",
    "# Initialize the signature matrix with infinity\n",
    "num_hashes = len(hash_functions)\n",
    "num_sets, num_elements = matrix.shape\n",
    "signature_matrix = np.full((num_hashes, num_sets), np.inf)\n",
    "\n",
    "# Compute the MinHash signatures\n",
    "for i in range(num_elements):\n",
    "    if any(matrix[:, i]):  # If the column has a '1'\n",
    "        for h in range(num_hashes):\n",
    "            hash_value = hash_functions[h](i)\n",
    "            for s in range(num_sets):\n",
    "                if matrix[s, i] == 1:\n",
    "                    signature_matrix[h, s] = min(signature_matrix[h, s], hash_value)\n",
    "\n",
    "# Print the signature matrix\n",
    "print(\"MinHash Signature Matrix:\")\n",
    "print(signature_matrix)\n"
   ]
  }
 ],
 "metadata": {
  "kernelspec": {
   "display_name": "Python 3 (ipykernel)",
   "language": "python",
   "name": "python3"
  },
  "language_info": {
   "codemirror_mode": {
    "name": "ipython",
    "version": 3
   },
   "file_extension": ".py",
   "mimetype": "text/x-python",
   "name": "python",
   "nbconvert_exporter": "python",
   "pygments_lexer": "ipython3",
   "version": "3.11.5"
  }
 },
 "nbformat": 4,
 "nbformat_minor": 5
}

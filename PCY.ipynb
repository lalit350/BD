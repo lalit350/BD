{
 "cells": [
  {
   "cell_type": "code",
   "execution_count": 1,
   "id": "eac5d218",
   "metadata": {},
   "outputs": [
    {
     "name": "stdout",
     "output_type": "stream",
     "text": [
      "   Bit Vector  Bucket No.  Highest Support Count   Pairs Candidate Set\n",
      "0           1           2                      4  (3, 4)        (3, 4)\n",
      "1           1           3                      3  (1, 3)        (1, 3)\n",
      "2           1           6                      3  (2, 3)        (2, 3)\n",
      "3           1           8                      5  (2, 4)        (2, 4)\n",
      "4           1           5                      3  (3, 5)        (3, 5)\n",
      "5           1           0                      3  (4, 5)        (4, 5)\n",
      "6           1           4                      4  (4, 6)        (4, 6)\n"
     ]
    }
   ],
   "source": [
    "import pandas as pd\n",
    "from collections import defaultdict, Counter\n",
    "from itertools import combinations\n",
    "\n",
    "# Transaction Data\n",
    "transactions = [\n",
    "    {1, 2, 3},\n",
    "    {2, 3, 4},\n",
    "    {3, 4, 5},\n",
    "    {4, 5, 6},\n",
    "    {1, 3, 5},\n",
    "    {2, 4, 6},\n",
    "    {1, 3, 4},\n",
    "    {2, 4, 5},\n",
    "    {3, 4, 6},\n",
    "    {1, 2, 4},\n",
    "    {2, 3, 5},\n",
    "    {2, 4, 6}\n",
    "]\n",
    "\n",
    "# Minimum Support Threshold\n",
    "min_support = 3\n",
    "\n",
    "# Hash Function (i * j) % 10\n",
    "def hash_function(pair):\n",
    "    return (pair[0] * pair[1]) % 10\n",
    "\n",
    "# First Pass - Count individual items and hash pairs\n",
    "item_count = Counter()\n",
    "bucket_count = defaultdict(int)\n",
    "for transaction in transactions:\n",
    "    for item in transaction:\n",
    "        item_count[item] += 1\n",
    "    for pair in combinations(transaction, 2):\n",
    "        bucket_count[hash_function(pair)] += 1\n",
    "\n",
    "# Create Bitmap\n",
    "bitmap = {bucket: 1 if count >= min_support else 0 for bucket, count in bucket_count.items()}\n",
    "\n",
    "# Second Pass - Count candidate pairs\n",
    "candidate_pairs = Counter()\n",
    "for transaction in transactions:\n",
    "    for pair in combinations(transaction, 2):\n",
    "        if bitmap[hash_function(pair)] == 1:\n",
    "            candidate_pairs[pair] += 1\n",
    "\n",
    "# Filter Candidate Pairs by Minimum Support\n",
    "frequent_pairs = {pair: count for pair, count in candidate_pairs.items() if count >= min_support}\n",
    "\n",
    "# Prepare Data for DataFrame\n",
    "data = []\n",
    "for bucket, count in bucket_count.items():\n",
    "    pairs_in_bucket = [pair for pair in frequent_pairs if hash_function(pair) == bucket]\n",
    "    if pairs_in_bucket:\n",
    "        highest_support = max(frequent_pairs[pair] for pair in pairs_in_bucket)\n",
    "        for pair in pairs_in_bucket:\n",
    "            data.append({\n",
    "                'Bit Vector': bitmap[bucket],\n",
    "                'Bucket No.': bucket,\n",
    "                'Highest Support Count': highest_support,\n",
    "                'Pairs': pair,\n",
    "                'Candidate Set': pair\n",
    "            })\n",
    "\n",
    "# Convert to DataFrame\n",
    "df = pd.DataFrame(data)\n",
    "\n",
    "# Print DataFrame\n",
    "print(df)\n"
   ]
  }
 ],
 "metadata": {
  "kernelspec": {
   "display_name": "Python 3 (ipykernel)",
   "language": "python",
   "name": "python3"
  },
  "language_info": {
   "codemirror_mode": {
    "name": "ipython",
    "version": 3
   },
   "file_extension": ".py",
   "mimetype": "text/x-python",
   "name": "python",
   "nbconvert_exporter": "python",
   "pygments_lexer": "ipython3",
   "version": "3.11.5"
  }
 },
 "nbformat": 4,
 "nbformat_minor": 5
}

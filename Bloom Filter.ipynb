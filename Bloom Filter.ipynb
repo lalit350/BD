{
 "cells": [
  {
   "cell_type": "code",
   "execution_count": 1,
   "id": "05a35f9b",
   "metadata": {},
   "outputs": [
    {
     "name": "stdout",
     "output_type": "stream",
     "text": [
      "Final Bloom Filter Bit Array: [1, 1, 1, 0, 1, 1, 1, 0, 1, 1, 0, 1, 0]\n",
      "Number 7 is probably in the set\n",
      "Number 5 is probably in the set\n"
     ]
    }
   ],
   "source": [
    "class BloomFilter:\n",
    "    def __init__(self, size):\n",
    "        self.size = size\n",
    "        self.bit_array = [0] * size\n",
    "\n",
    "    def hash1(self, x):\n",
    "        return (x + 1) % self.size\n",
    "\n",
    "    def hash2(self, x):\n",
    "        return (2 * x + 3) % self.size\n",
    "\n",
    "    def add(self, item):\n",
    "        # Apply both hash functions\n",
    "        index1 = self.hash1(item)\n",
    "        index2 = self.hash2(item)\n",
    "\n",
    "        # Set the bits at the calculated positions\n",
    "        self.bit_array[index1] = 1\n",
    "        self.bit_array[index2] = 1\n",
    "\n",
    "    def check(self, item):\n",
    "        # Apply both hash functions\n",
    "        index1 = self.hash1(item)\n",
    "        index2 = self.hash2(item)\n",
    "\n",
    "        # Check if both bits are set\n",
    "        return self.bit_array[index1] == 1 and self.bit_array[index2] == 1\n",
    "\n",
    "    def get_bit_array(self):\n",
    "        return self.bit_array\n",
    "\n",
    "# Initialize Bloom filter with 13 bits\n",
    "bloom_filter = BloomFilter(13)\n",
    "\n",
    "# Add numbers to the Bloom filter\n",
    "numbers_to_add = [8, 17, 25, 14, 20]\n",
    "for number in numbers_to_add:\n",
    "    bloom_filter.add(number)\n",
    "\n",
    "# Get the final state of the Bloom filter\n",
    "final_bit_array = bloom_filter.get_bit_array()\n",
    "print(f\"Final Bloom Filter Bit Array: {final_bit_array}\")\n",
    "\n",
    "# Check if numbers 7 and 5 are in the Bloom filter\n",
    "check_numbers = [7, 5]\n",
    "results = {num: bloom_filter.check(num) for num in check_numbers}\n",
    "\n",
    "# Output the results\n",
    "for num, result in results.items():\n",
    "    print(f\"Number {num} is {'probably in the set' if result else 'not in the set'}\")\n"
   ]
  }
 ],
 "metadata": {
  "kernelspec": {
   "display_name": "Python 3 (ipykernel)",
   "language": "python",
   "name": "python3"
  },
  "language_info": {
   "codemirror_mode": {
    "name": "ipython",
    "version": 3
   },
   "file_extension": ".py",
   "mimetype": "text/x-python",
   "name": "python",
   "nbconvert_exporter": "python",
   "pygments_lexer": "ipython3",
   "version": "3.11.5"
  }
 },
 "nbformat": 4,
 "nbformat_minor": 5
}

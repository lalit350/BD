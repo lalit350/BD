{
 "cells": [
  {
   "cell_type": "code",
   "execution_count": null,
   "id": "e498dc2c",
   "metadata": {},
   "outputs": [],
   "source": [
    "METHOD 1:"
   ]
  },
  {
   "cell_type": "code",
   "execution_count": 1,
   "id": "fe5d6f63",
   "metadata": {},
   "outputs": [
    {
     "name": "stdout",
     "output_type": "stream",
     "text": [
      "Estimated number of distinct items: 16\n",
      "Max Traling Zero is 4\n"
     ]
    }
   ],
   "source": [
    "import math\n",
    "\n",
    "# Define a simple manual hash function for numbers\n",
    "def manual_hash(x):\n",
    "    return (3 * x + 7) % 32\n",
    "\n",
    "# Convert the hash value to a binary string\n",
    "def hash_to_binary(x):\n",
    "    return bin(manual_hash(x))[2:]\n",
    "\n",
    "# Function to count trailing zeros in a binary string\n",
    "def count_trailing_zeros(binary_string):\n",
    "    return len(binary_string) - len(binary_string.rstrip('0'))\n",
    "\n",
    "# Flajolet-Martin algorithm to estimate the number of distinct items\n",
    "def flajolet_martin(stream):\n",
    "    max_trailing_zeros = 0\n",
    "\n",
    "    for item in stream:\n",
    "        # Get binary hash of the number using the manual hash function\n",
    "        binary_hash = hash_to_binary(item)\n",
    "        # Count trailing zeros in the binary hash\n",
    "        trailing_zeros = count_trailing_zeros(binary_hash)\n",
    "        # Keep track of the maximum number of trailing zeros\n",
    "        max_trailing_zeros = max(max_trailing_zeros, trailing_zeros)\n",
    "\n",
    "    # The estimate of distinct items is 2 raised to the power of max_trailing_zeros\n",
    "    estimate = 2 ** max_trailing_zeros\n",
    "    return estimate, max_trailing_zeros\n",
    "\n",
    "# Example usage with a stream of numbers\n",
    "stream = [3, 1, 4, 1, 5, 9, 2, 6, 5]\n",
    "distinct_estimate , max_zero = flajolet_martin(stream)\n",
    "print(f\"Estimated number of distinct items: {distinct_estimate}\")\n",
    "print(f\"Max Traling Zero is {max_zero}\")"
   ]
  },
  {
   "cell_type": "code",
   "execution_count": null,
   "id": "38dcfa85",
   "metadata": {},
   "outputs": [],
   "source": []
  },
  {
   "cell_type": "markdown",
   "id": "23bd3b89",
   "metadata": {},
   "source": [
    "METHOD 2:"
   ]
  },
  {
   "cell_type": "code",
   "execution_count": 2,
   "id": "bbd13817",
   "metadata": {},
   "outputs": [
    {
     "name": "stdout",
     "output_type": "stream",
     "text": [
      "The value of R (2^r) is: 16\n",
      "The value of r (max trailing zeros) is: 4\n"
     ]
    }
   ],
   "source": [
    "# Custom hash function: (3x + 7) mod 32\n",
    "def custom_hash_function(x):\n",
    "    return (3 * x + 7) % 32\n",
    "\n",
    "# Function to count the number of trailing zeros in binary representation\n",
    "def count_trailing_zeros(n):\n",
    "    if n == 0:\n",
    "        return 32  # Edge case for 0\n",
    "    binary_rep = bin(n)[::-1]  # Reverse the binary representation\n",
    "    return binary_rep.find('1')  # Find the position of the first '1'\n",
    "\n",
    "# Flajolet-Martin implementation for custom hash function\n",
    "def flajolet_martin(stream):\n",
    "    max_trailing_zeros = 0  # Store max number of trailing zeros\n",
    "\n",
    "    for element in stream:\n",
    "        # Get the hashed value using the custom hash function\n",
    "        hashed_value = custom_hash_function(element)\n",
    "        # Count trailing zeros in the binary representation of the hash\n",
    "        num_trailing_zeros = count_trailing_zeros(hashed_value)\n",
    "        # Keep track of the maximum number of trailing zeros seen\n",
    "        max_trailing_zeros = max(max_trailing_zeros, num_trailing_zeros)\n",
    "\n",
    "    # The estimated number of distinct elements is 2^max_trailing_zeros\n",
    "    return max_trailing_zeros\n",
    "\n",
    "\n",
    "# Given elements\n",
    "stream = [3, 1, 4, 1, 5, 9, 2, 6, 5]\n",
    "\n",
    "# Compute R (2^r) where r is the max number of trailing zeros\n",
    "r = flajolet_martin(stream)\n",
    "R = 2 ** r\n",
    "\n",
    "print(f\"The value of R (2^r) is: {R}\")\n",
    "print(f\"The value of r (max trailing zeros) is: {r}\")"
   ]
  }
 ],
 "metadata": {
  "kernelspec": {
   "display_name": "Python 3 (ipykernel)",
   "language": "python",
   "name": "python3"
  },
  "language_info": {
   "codemirror_mode": {
    "name": "ipython",
    "version": 3
   },
   "file_extension": ".py",
   "mimetype": "text/x-python",
   "name": "python",
   "nbconvert_exporter": "python",
   "pygments_lexer": "ipython3",
   "version": "3.11.5"
  }
 },
 "nbformat": 4,
 "nbformat_minor": 5
}
